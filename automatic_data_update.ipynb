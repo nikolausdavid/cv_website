{
 "cells": [
  {
   "cell_type": "code",
   "execution_count": 1,
   "id": "6fed1e6b",
   "metadata": {},
   "outputs": [],
   "source": [
    "import codecs\n",
    "import re\n",
    "import pandas as pd\n",
    "import numpy as np\n",
    "from yahooquery import Ticker\n",
    "import yfinance as yf\n",
    "import matplotlib.pyplot as plt\n",
    "from datetime import date, timedelta\n",
    "import altair as alt"
   ]
  },
  {
   "cell_type": "code",
   "execution_count": 4,
   "id": "aff56e23",
   "metadata": {},
   "outputs": [],
   "source": [
    "link = (\"https://en.wikipedia.org/wiki/List_of_S%26P_500_companies#S&P_500_component_stocks\")\n",
    "sp500_raw = pd.read_html(link, header=0)[0]\n",
    "sp500 = [str(stock) for stock in sp500_raw[\"Symbol\"]]\n",
    "\n",
    "today = date.today()\n",
    "start_date = date.today() - timedelta(weeks=27)\n",
    "start_date = f\"{start_date.year}-{start_date.month}-{start_date.day}\"\n",
    "today = f\"{today.year}-{today.month}-{today.day}\"\n",
    "momentum_start = date.today() - timedelta(weeks=4)\n",
    "momentum_start = f\"{momentum_start.year}-{momentum_start.month}-{momentum_start.day}\""
   ]
  },
  {
   "cell_type": "code",
   "execution_count": 5,
   "id": "b6f074de",
   "metadata": {},
   "outputs": [],
   "source": [
    "def compass(stocks):\n",
    "    _data_points = [\"Stock\",\"Momentum\", \"Levy\"]\n",
    "    updated_stocks = []\n",
    "    for stock in stocks:\n",
    "        if len(pd.DataFrame(yf.Ticker(stock).history(start=start_date))[\"Close\"]) != 0:\n",
    "            updated_stocks.append(stock)\n",
    "        else:\n",
    "            pass\n",
    "    data = pd.DataFrame({\"Stock\": updated_stocks, \"Momentum\": None, \"Levy\": None}, index=updated_stocks)\n",
    "    for stock in updated_stocks:\n",
    "        data.loc[stock][\"Stock\"] = pd.DataFrame(sp500_raw).set_index(sp500_raw[\"Symbol\"]).loc[stock][\"Security\"]\n",
    "        data.loc[stock][\"Momentum\"] = momentum(stock)\n",
    "        data.loc[stock][\"Levy\"] = relative_strength(stock)\n",
    "    return data\n",
    "      \n",
    "def relative_strength(stock, start=start_date):\n",
    "    constructor = pd.DataFrame(yf.Ticker(stock).history(start=start))\n",
    "    strength = constructor[\"Close\"][-1] / np.mean(constructor[\"Close\"][:-1])\n",
    "    return strength\n",
    "\n",
    "def momentum(stock, start=momentum_start):\n",
    "    constructor = pd.DataFrame(yf.Ticker(stock).history(start=start))\n",
    "    moment = constructor[\"Close\"][-1] / constructor[\"Close\"][0]\n",
    "    return moment"
   ]
  },
  {
   "cell_type": "code",
   "execution_count": null,
   "id": "764d93a7",
   "metadata": {},
   "outputs": [
    {
     "name": "stdout",
     "output_type": "stream",
     "text": [
      "Got error from yahoo api for ticker BRK.B, Error: {'code': 'Not Found', 'description': 'No data found, symbol may be delisted'}\n",
      "- BRK.B: No timezone found, symbol may be delisted\n",
      "BF.B: No data found for this date range, symbol may be delisted\n"
     ]
    }
   ],
   "source": [
    "data = compass(sp500)"
   ]
  },
  {
   "cell_type": "code",
   "execution_count": null,
   "id": "91a48eb1",
   "metadata": {},
   "outputs": [],
   "source": [
    "base = alt.Chart(data)\n",
    "xscale = alt.Scale(domain=(0.5, 1.5))\n",
    "yscale = alt.Scale(domain=(0.5, 1.5))\n",
    "\n",
    "points = base.mark_circle(color=\"red\").encode(\n",
    "    alt.X(\"Levy:Q\").scale(xscale),\n",
    "    alt.Y(\"Momentum:Q\").scale(yscale),\n",
    ")\n",
    "\n",
    "text = points.mark_text(align='left',baseline='middle',dx=10).encode(\n",
    "    text=\"Stock\",\n",
    ")\n",
    "\n",
    "x_line = alt.Chart().mark_rule(strokeDash=[10, 10]).encode(y=alt.datum(1))\n",
    "y_line = alt.Chart().mark_rule(strokeDash=[10, 10]).encode(x=alt.datum(1))\n",
    "\n",
    "\n",
    "(points+text+x_line+y_line).properties(width=650,height=500, title=\"Trending Stock Indicator\").interactive().save(\"Trendcompass.html\")"
   ]
  },
  {
   "cell_type": "code",
   "execution_count": null,
   "id": "e1cd1a5e",
   "metadata": {},
   "outputs": [],
   "source": [
    "data[\"Mean\"] = np.mean([data[\"Momentum\"], data[\"Levy\"]], axis=0)\n",
    "new_data = data.sort_values(by=[\"Mean\"], axis=0, ascending=False)[:30]\n",
    "\n",
    "main_chart = alt.Chart(new_data, title=\"List of Best 30 Stocks\").mark_point(color=\"red\").encode(\n",
    "alt.X(\"Mean:Q\")\n",
    "    .title(\"Levy: blue, Mean: red, Momentum: green\")\n",
    "    .scale(zero=False)\n",
    "    .axis(grid=False),\n",
    "alt.Y(\"Stock:N\")\n",
    "    .title(\"\")\n",
    "    .sort(\"-x\")\n",
    "    .axis(grid=True),\n",
    "\n",
    ")\n",
    "\n",
    "chart_1= alt.Chart(new_data).mark_point(color=\"green\").encode(\n",
    "alt.X(\"Momentum:Q\")\n",
    "    .scale(zero=False)\n",
    "    .axis(grid=False),\n",
    "alt.Y(\"Stock:N\")\n",
    "    .sort()\n",
    "    .axis(grid=True),\n",
    "\n",
    ")\n",
    "\n",
    "chart_2 = alt.Chart(new_data).mark_point(color=\"blue\").encode(\n",
    "alt.X(\"Levy:Q\")\n",
    "    .scale(zero=False)\n",
    "    .axis(grid=False),\n",
    "alt.Y(\"Stock:N\")\n",
    "    .sort()\n",
    "    .axis(grid=True),\n",
    "\n",
    ")\n",
    "(main_chart+chart_1+chart_2).properties(height=alt.Step(20)).configure_view(stroke=\"transparent\").save(\"Scoreboard.html\")"
   ]
  },
  {
   "cell_type": "code",
   "execution_count": null,
   "id": "7499e9cb",
   "metadata": {},
   "outputs": [],
   "source": [
    "scatter = codecs.open(\"Trendcompass.html\", \"r\").read()\n",
    "board = codecs.open(\"Scoreboard.html\", \"r\").read()"
   ]
  },
  {
   "cell_type": "code",
   "execution_count": null,
   "id": "c30c7e96",
   "metadata": {},
   "outputs": [],
   "source": [
    "start = \"var spec = {\"\n",
    "end = \"var embedOpt = \"\n",
    "scatter = \"\".join(scatter.split(start)[1].split(end)[0]).removesuffix(\"};\\n      \")\n",
    "board = \"\".join(board.split(start)[1].split(end)[0]).removesuffix(\"};\\n      \")\n"
   ]
  },
  {
   "cell_type": "code",
   "execution_count": null,
   "id": "342b0dc6",
   "metadata": {},
   "outputs": [],
   "source": [
    "template = codecs.open(\"_layouts/backup.html\", \"r\").read()\n",
    "default = template.replace(\"#scatterplot\", scatter)\n",
    "default = default.replace(\"#leaderboard\", board)\n"
   ]
  },
  {
   "cell_type": "code",
   "execution_count": null,
   "id": "9d48c915",
   "metadata": {},
   "outputs": [],
   "source": [
    "with open(\"_layouts/default.html\", \"w\") as file:\n",
    "    file.write(default)\n"
   ]
  }
 ],
 "metadata": {
  "kernelspec": {
   "display_name": "Python 3 (ipykernel)",
   "language": "python",
   "name": "python3"
  },
  "language_info": {
   "codemirror_mode": {
    "name": "ipython",
    "version": 3
   },
   "file_extension": ".py",
   "mimetype": "text/x-python",
   "name": "python",
   "nbconvert_exporter": "python",
   "pygments_lexer": "ipython3",
   "version": "3.11.3"
  }
 },
 "nbformat": 4,
 "nbformat_minor": 5
}
