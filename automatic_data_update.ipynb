{
 "cells": [
  {
   "cell_type": "code",
   "execution_count": 34,
   "id": "6fed1e6b",
   "metadata": {},
   "outputs": [],
   "source": [
    "import codecs\n",
    "import re\n",
    "from functions import compass\n",
    "import pandas as pd\n",
    "import numpy as np\n",
    "from yahooquery import Ticker\n",
    "import yfinance as yf\n",
    "import matplotlib.pyplot as plt\n",
    "from datetime import date, timedelta\n",
    "import altair as alt"
   ]
  },
  {
   "cell_type": "code",
   "execution_count": 12,
   "id": "aff56e23",
   "metadata": {},
   "outputs": [],
   "source": [
    "link = (\"https://en.wikipedia.org/wiki/List_of_S%26P_500_companies#S&P_500_component_stocks\")\n",
    "sp500_raw = pd.read_html(link, header=0)[0]\n",
    "sp500 = [str(stock) for stock in sp500_raw[\"Symbol\"]]\n",
    "data = compass(sp500)"
   ]
  },
  {
   "cell_type": "code",
   "execution_count": 13,
   "id": "91a48eb1",
   "metadata": {},
   "outputs": [
    {
     "ename": "NameError",
     "evalue": "name 'alt' is not defined",
     "output_type": "error",
     "traceback": [
      "\u001b[0;31m---------------------------------------------------------------------------\u001b[0m",
      "\u001b[0;31mNameError\u001b[0m                                 Traceback (most recent call last)",
      "Cell \u001b[0;32mIn[13], line 1\u001b[0m\n\u001b[0;32m----> 1\u001b[0m base \u001b[38;5;241m=\u001b[39m alt\u001b[38;5;241m.\u001b[39mChart(data)\n\u001b[1;32m      2\u001b[0m xscale \u001b[38;5;241m=\u001b[39m alt\u001b[38;5;241m.\u001b[39mScale(domain\u001b[38;5;241m=\u001b[39m(\u001b[38;5;241m0.5\u001b[39m, \u001b[38;5;241m1.5\u001b[39m))\n\u001b[1;32m      3\u001b[0m yscale \u001b[38;5;241m=\u001b[39m alt\u001b[38;5;241m.\u001b[39mScale(domain\u001b[38;5;241m=\u001b[39m(\u001b[38;5;241m0.5\u001b[39m, \u001b[38;5;241m1.5\u001b[39m))\n",
      "\u001b[0;31mNameError\u001b[0m: name 'alt' is not defined"
     ]
    }
   ],
   "source": [
    "base = alt.Chart(data)\n",
    "xscale = alt.Scale(domain=(0.5, 1.5))\n",
    "yscale = alt.Scale(domain=(0.5, 1.5))\n",
    "\n",
    "points = base.mark_circle(color=\"red\").encode(\n",
    "    alt.X(\"Levy:Q\").scale(xscale),\n",
    "    alt.Y(\"Momentum:Q\").scale(yscale),\n",
    ")\n",
    "\n",
    "text = points.mark_text(align='left',baseline='middle',dx=10).encode(\n",
    "    text=\"Stock\",\n",
    ")\n",
    "\n",
    "x_line = alt.Chart().mark_rule(strokeDash=[10, 10]).encode(y=alt.datum(1))\n",
    "y_line = alt.Chart().mark_rule(strokeDash=[10, 10]).encode(x=alt.datum(1))\n",
    "\n",
    "\n",
    "(points+text+x_line+y_line).properties(width=650,height=500, title=\"Trending Stock Indicator\").interactive().save(\"Trendcompass.html\")"
   ]
  },
  {
   "cell_type": "code",
   "execution_count": 32,
   "id": "e1cd1a5e",
   "metadata": {},
   "outputs": [
    {
     "ename": "NameError",
     "evalue": "name 'data' is not defined",
     "output_type": "error",
     "traceback": [
      "\u001b[0;31m---------------------------------------------------------------------------\u001b[0m",
      "\u001b[0;31mNameError\u001b[0m                                 Traceback (most recent call last)",
      "Cell \u001b[0;32mIn[32], line 1\u001b[0m\n\u001b[0;32m----> 1\u001b[0m data[\u001b[38;5;124m\"\u001b[39m\u001b[38;5;124mMean\u001b[39m\u001b[38;5;124m\"\u001b[39m] \u001b[38;5;241m=\u001b[39m np\u001b[38;5;241m.\u001b[39mmean([data[\u001b[38;5;124m\"\u001b[39m\u001b[38;5;124mMomentum\u001b[39m\u001b[38;5;124m\"\u001b[39m], data[\u001b[38;5;124m\"\u001b[39m\u001b[38;5;124mLevy\u001b[39m\u001b[38;5;124m\"\u001b[39m]], axis\u001b[38;5;241m=\u001b[39m\u001b[38;5;241m0\u001b[39m)\n\u001b[1;32m      2\u001b[0m new_data \u001b[38;5;241m=\u001b[39m data\u001b[38;5;241m.\u001b[39msort_values(by\u001b[38;5;241m=\u001b[39m[\u001b[38;5;124m\"\u001b[39m\u001b[38;5;124mMean\u001b[39m\u001b[38;5;124m\"\u001b[39m], axis\u001b[38;5;241m=\u001b[39m\u001b[38;5;241m0\u001b[39m, ascending\u001b[38;5;241m=\u001b[39m\u001b[38;5;28;01mFalse\u001b[39;00m)[:\u001b[38;5;241m30\u001b[39m]\n\u001b[1;32m      4\u001b[0m main_chart \u001b[38;5;241m=\u001b[39m alt\u001b[38;5;241m.\u001b[39mChart(new_data, title\u001b[38;5;241m=\u001b[39m\u001b[38;5;124m\"\u001b[39m\u001b[38;5;124mList of Best 30 Stocks\u001b[39m\u001b[38;5;124m\"\u001b[39m)\u001b[38;5;241m.\u001b[39mmark_point(color\u001b[38;5;241m=\u001b[39m\u001b[38;5;124m\"\u001b[39m\u001b[38;5;124mred\u001b[39m\u001b[38;5;124m\"\u001b[39m)\u001b[38;5;241m.\u001b[39mencode(\n\u001b[1;32m      5\u001b[0m alt\u001b[38;5;241m.\u001b[39mX(\u001b[38;5;124m\"\u001b[39m\u001b[38;5;124mMean:Q\u001b[39m\u001b[38;5;124m\"\u001b[39m)\n\u001b[1;32m      6\u001b[0m     \u001b[38;5;241m.\u001b[39mtitle(\u001b[38;5;124m\"\u001b[39m\u001b[38;5;124mLevy: blue, Mean: red, Momentum: green\u001b[39m\u001b[38;5;124m\"\u001b[39m)\n\u001b[0;32m   (...)\u001b[0m\n\u001b[1;32m     13\u001b[0m \n\u001b[1;32m     14\u001b[0m )\n",
      "\u001b[0;31mNameError\u001b[0m: name 'data' is not defined"
     ]
    }
   ],
   "source": [
    "data[\"Mean\"] = np.mean([data[\"Momentum\"], data[\"Levy\"]], axis=0)\n",
    "new_data = data.sort_values(by=[\"Mean\"], axis=0, ascending=False)[:30]\n",
    "\n",
    "main_chart = alt.Chart(new_data, title=\"List of Best 30 Stocks\").mark_point(color=\"red\").encode(\n",
    "alt.X(\"Mean:Q\")\n",
    "    .title(\"Levy: blue, Mean: red, Momentum: green\")\n",
    "    .scale(zero=False)\n",
    "    .axis(grid=False),\n",
    "alt.Y(\"Stock:N\")\n",
    "    .title(\"\")\n",
    "    .sort(\"-x\")\n",
    "    .axis(grid=True),\n",
    "\n",
    ")\n",
    "\n",
    "chart_1= alt.Chart(new_data).mark_point(color=\"green\").encode(\n",
    "alt.X(\"Momentum:Q\")\n",
    "    .scale(zero=False)\n",
    "    .axis(grid=False),\n",
    "alt.Y(\"Stock:N\")\n",
    "    .sort()\n",
    "    .axis(grid=True),\n",
    "\n",
    ")\n",
    "\n",
    "chart_2 = alt.Chart(new_data).mark_point(color=\"blue\").encode(\n",
    "alt.X(\"Levy:Q\")\n",
    "    .scale(zero=False)\n",
    "    .axis(grid=False),\n",
    "alt.Y(\"Stock:N\")\n",
    "    .sort()\n",
    "    .axis(grid=True),\n",
    "\n",
    ")\n",
    "(main_chart+chart_1+chart_2).properties(height=alt.Step(20)).configure_view(stroke=\"transparent\").save(\"Scoreboard.html\")"
   ]
  },
  {
   "cell_type": "code",
   "execution_count": 35,
   "id": "7499e9cb",
   "metadata": {},
   "outputs": [],
   "source": [
    "scatter = codecs.open(\"Trendcompass.html\", \"r\").read()\n",
    "board = codecs.open(\"Scoreboard.html\", \"r\").read()"
   ]
  },
  {
   "cell_type": "code",
   "execution_count": 36,
   "id": "c30c7e96",
   "metadata": {},
   "outputs": [],
   "source": [
    "start = \"spec = \"\n",
    "end = \"var embedOpt = \"\n",
    "scatter = \"\".join(scatter.split(start)[1].split(end)[0])\n",
    "board = \"\".join(board.split(start)[1].split(end)[0])\n"
   ]
  },
  {
   "cell_type": "code",
   "execution_count": 44,
   "id": "342b0dc6",
   "metadata": {},
   "outputs": [],
   "source": [
    "template = codecs.open(\"_layouts/backup.html\", \"r\").read()\n",
    "default = template.replace(\"*scatterplot_python*\",scatter)\n",
    "default = template.replace(\"*leaderboard_python*\", board)"
   ]
  },
  {
   "cell_type": "code",
   "execution_count": 47,
   "id": "9d48c915",
   "metadata": {},
   "outputs": [],
   "source": [
    "with open(\"_layouts/default.html\", \"w\") as file:\n",
    "    file.write(default)"
   ]
  }
 ],
 "metadata": {
  "kernelspec": {
   "display_name": "Python 3 (ipykernel)",
   "language": "python",
   "name": "python3"
  },
  "language_info": {
   "codemirror_mode": {
    "name": "ipython",
    "version": 3
   },
   "file_extension": ".py",
   "mimetype": "text/x-python",
   "name": "python",
   "nbconvert_exporter": "python",
   "pygments_lexer": "ipython3",
   "version": "3.11.3"
  }
 },
 "nbformat": 4,
 "nbformat_minor": 5
}
